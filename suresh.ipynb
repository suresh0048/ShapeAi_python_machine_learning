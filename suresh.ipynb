1. import numpy as np
import pandas as pd
import sklearn

2. from sklearn.datasets import load_boston
df = load_boston()

3. df.keys()

4. print(df.data)

5. boston = pd.DataFrame(df.data, coloumns=df.feature_names)
boston.head() 

6. boston['MEDV']=df.target
boston.head()

7. boston.isnull()

8. boston.isnull().sum()

9. from sklearn.model_selection import train_test_split

X = boston.drop('MEDV', axis=1)
Y = boston['MEDV']

X_train, X_test, Y_train, Y_test = train_test_split(X, Y, test_size = 0.15, random_state=5)  
 
print(X_train.shape)
print(X_test.shape)
print(Y_train.shape)
print(Y_test.shape)

10. from sklearn.linear_model import LinearRegression
from sklearn.metrics import mean_squared_error

11. lin_model = LinearRegression()

lin_model.fit(X_train, Y_train)

12. y_train_predict = lin_model.predict(X_train)
rmse = (np.sqrt(mean_squared_error(Y_train, y_train_predict)))

print("The model performance for training set")
print('RMSE is {}'.format(rmse))
print("\n")

y_test_predict = lin_model.predict(X_test)
rmse = (np.sqrt(mean_squared_error(Y_test, y_test_predict)))

print("The model performance for training set")
print('RMSE is {}'.format(rmse))










  